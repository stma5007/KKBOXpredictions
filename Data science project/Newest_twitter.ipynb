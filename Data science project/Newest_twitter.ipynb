{
 "cells": [
  {
   "cell_type": "code",
   "execution_count": 16,
   "metadata": {},
   "outputs": [],
   "source": [
    "import networkx as nx\n",
    "import operator"
   ]
  },
  {
   "cell_type": "code",
   "execution_count": 17,
   "metadata": {},
   "outputs": [],
   "source": [
    "#creating a list for node_files, and append the nodes\n",
    "filebox = []\n",
    "for node in open('node_file.nodes'):\n",
    "    filebox.append(node)"
   ]
  },
  {
   "cell_type": "code",
   "execution_count": 18,
   "metadata": {},
   "outputs": [
    {
     "data": {
      "text/plain": [
       "2046939"
      ]
     },
     "execution_count": 18,
     "metadata": {},
     "output_type": "execute_result"
    }
   ],
   "source": [
    "#splitting and stripping for the items in the file\n",
    "#taking the length of the file.\n",
    "split_box = []\n",
    "for item in filebox:\n",
    "    split_box.append(item.strip('\\n').split('\\t'))\n",
    "    \n",
    "len(split_box)"
   ]
  },
  {
   "cell_type": "code",
   "execution_count": 19,
   "metadata": {},
   "outputs": [],
   "source": [
    "#creating a graph G.\n",
    "#The try block lets you test a block of code for errors.\n",
    "#The except block lets you handle the error\n",
    "G = nx.DiGraph()\n",
    "for node in split_box:\n",
    "    try:\n",
    "        G.add_node(node[0], label = node[2])\n",
    "    except IndexError:\n",
    "        G.add_node(node[0])"
   ]
  },
  {
   "cell_type": "code",
   "execution_count": 20,
   "metadata": {},
   "outputs": [],
   "source": [
    "#opening the file, strripping and splitting\n",
    "#if length of line is greater than 1, we add it to our edeges. \n",
    "fh = open('graph_file.edges')\n",
    "\n",
    "for line in fh:\n",
    "    line = line.strip().split()\n",
    "    if len(line)>1:\n",
    "        G.add_edge(line[0],line[1])"
   ]
  },
  {
   "cell_type": "code",
   "execution_count": 21,
   "metadata": {},
   "outputs": [
    {
     "data": {
      "text/plain": [
       "'Name: \\nType: DiGraph\\nNumber of nodes: 1637533\\nNumber of edges: 2014920\\nAverage in degree:   1.2305\\nAverage out degree:   1.2305'"
      ]
     },
     "execution_count": 21,
     "metadata": {},
     "output_type": "execute_result"
    }
   ],
   "source": [
    "#info about the nodes, edges, in_degree and out_degree\n",
    "nx.info(G)"
   ]
  },
  {
   "cell_type": "code",
   "execution_count": 22,
   "metadata": {},
   "outputs": [],
   "source": [
    "#now we will print number of individiuals with at least 1 follower\n",
    "individuals_one = [float(G.in_degree(individuals_one)) for individuals_one in G.nodes()]"
   ]
  },
  {
   "cell_type": "code",
   "execution_count": 23,
   "metadata": {},
   "outputs": [
    {
     "data": {
      "text/plain": [
       "1637533"
      ]
     },
     "execution_count": 23,
     "metadata": {},
     "output_type": "execute_result"
    }
   ],
   "source": [
    "len(individuals_one)"
   ]
  },
  {
   "cell_type": "code",
   "execution_count": 24,
   "metadata": {},
   "outputs": [],
   "source": [
    "#now we will print the number of individuals with 0 followers\n",
    "individuals_zero = [individuals_one for individuals_one in G.nodes() if G.in_degree(individuals_one) == 0]"
   ]
  },
  {
   "cell_type": "code",
   "execution_count": 25,
   "metadata": {},
   "outputs": [
    {
     "data": {
      "text/plain": [
       "2615"
      ]
     },
     "execution_count": 25,
     "metadata": {},
     "output_type": "execute_result"
    }
   ],
   "source": [
    "#we remove the nodes from indiviauls with 1 follower\n",
    "G.remove_nodes_from(individuals_zero)\n",
    "len(G)"
   ]
  },
  {
   "cell_type": "code",
   "execution_count": 26,
   "metadata": {},
   "outputs": [
    {
     "name": "stdout",
     "output_type": "stream",
     "text": [
      "Individuals with at least 1 followers: 1637533\n",
      "Individuals with 0 followers: 2615\n"
     ]
    }
   ],
   "source": [
    "print(\"Individuals with at least 1 followers:\", len(individuals_one))\n",
    "print(\"Individuals with 0 followers:\", len(G))"
   ]
  },
  {
   "cell_type": "code",
   "execution_count": 27,
   "metadata": {},
   "outputs": [
    {
     "name": "stdout",
     "output_type": "stream",
     "text": [
      "\n",
      "larsloekke: \n",
      "has degree-centrality of: 0.9996174445294568\n",
      "\n",
      "anderssamuelsen: \n",
      "has degree-centrality of: 0.17865340474368782\n",
      "\n",
      "oestergaard: \n",
      "has degree-centrality of: 0.17521040550879877\n",
      "\n",
      "PSkipperEL: \n",
      "has degree-centrality of: 0.1411629686304514\n",
      "\n",
      "SorenPape: \n",
      "has degree-centrality of: 0.13542463657230297\n",
      "\n",
      "uffeelbaek: \n",
      "has degree-centrality of: 0.12165263963274675\n",
      "\n",
      "PiaOlsen: \n",
      "has degree-centrality of: 0.11667941851568477\n",
      "\n",
      "MagiskCS: \n",
      "has degree-centrality of: 0.04628921193573068\n",
      "\n",
      "Astro_Andreas: \n",
      "has degree-centrality of: 0.022570772762050495\n",
      "\n",
      "EEinEU: \n",
      "has degree-centrality of: 0.018362662586074982\n",
      "\n",
      "mohwpr: \n",
      "has degree-centrality of: 0.014537107880642693\n",
      "\n",
      "DanmarksNatur: \n",
      "has degree-centrality of: 0.014154552410099464\n",
      "\n",
      "alexIholroyd: \n",
      "has degree-centrality of: 0.014154552410099464\n",
      "\n",
      "Maersk: \n",
      "has degree-centrality of: 0.013771996939556235\n",
      "\n",
      "EU2018AT: \n",
      "has degree-centrality of: 0.011859219586840091\n",
      "\n",
      "NewClimateEcon: \n",
      "has degree-centrality of: 0.007651109410864575\n",
      "\n",
      "worldscouting: \n",
      "has degree-centrality of: 0.0072685539403213465\n",
      "\n",
      "meshivamahuja: \n",
      "has degree-centrality of: 0.006885998469778117\n",
      "\n",
      "alemannoEU: \n",
      "has degree-centrality of: 0.006503442999234889\n",
      "\n",
      "ChassNews: \n",
      "has degree-centrality of: 0.006503442999234889\n"
     ]
    }
   ],
   "source": [
    "#now we will try to find the degree-centratlty \n",
    "degree_cent = nx.in_degree_centrality(G)\n",
    "sorted_d = sorted(degree_cent.items(), key = operator.itemgetter(1), reverse=True)\n",
    "top_degree = sorted_d[:20]\n",
    "for pair in top_degree:\n",
    "    print('\\n{}: \\nhas degree-centrality of: {}'.format(pair[0],pair[1]))  "
   ]
  },
  {
   "cell_type": "code",
   "execution_count": 28,
   "metadata": {},
   "outputs": [
    {
     "name": "stdout",
     "output_type": "stream",
     "text": [
      "\n",
      "larsloekke: \n",
      "has betweeness-centrality of: 0.03855084629347941\n",
      "\n",
      "worldscouting: \n",
      "has betweeness-centrality of: 0.025463256470739784\n",
      "\n",
      "JulleKramer: \n",
      "has betweeness-centrality of: 0.020414659133225255\n",
      "\n",
      "KanchanAmatya: \n",
      "has betweeness-centrality of: 0.019403499933578965\n",
      "\n",
      "devindthorpe: \n",
      "has betweeness-centrality of: 0.013505220022130197\n",
      "\n",
      "CombatJourno: \n",
      "has betweeness-centrality of: 0.010434571609149476\n",
      "\n",
      "oestergaard: \n",
      "has betweeness-centrality of: 0.009361543969930067\n",
      "\n",
      "uffeelbaek: \n",
      "has betweeness-centrality of: 0.008417359794046436\n",
      "\n",
      "stinelet: \n",
      "has betweeness-centrality of: 0.0078713459141488\n",
      "\n",
      "robmcd85: \n",
      "has betweeness-centrality of: 0.007707864559379078\n",
      "\n",
      "Maersk: \n",
      "has betweeness-centrality of: 0.007429719373378016\n",
      "\n",
      "alexIholroyd: \n",
      "has betweeness-centrality of: 0.006318123507282904\n",
      "\n",
      "RestlessDev: \n",
      "has betweeness-centrality of: 0.004442143945399516\n",
      "\n",
      "ChassNews: \n",
      "has betweeness-centrality of: 0.0041548636014143315\n",
      "\n",
      "YvesPDB: \n",
      "has betweeness-centrality of: 0.003800442233278064\n",
      "\n",
      "NewClimateEcon: \n",
      "has betweeness-centrality of: 0.0036095529425404583\n",
      "\n",
      "PSkipperEL: \n",
      "has betweeness-centrality of: 0.002548471613550813\n",
      "\n",
      "anderssamuelsen: \n",
      "has betweeness-centrality of: 0.002527323800125835\n",
      "\n",
      "alemannoEU: \n",
      "has betweeness-centrality of: 0.0024002191544358286\n",
      "\n",
      "ACEuropeanUnion: \n",
      "has betweeness-centrality of: 0.0019150561534281758\n",
      "\n",
      "SorenPape: \n",
      "has betweeness-centrality of: 0.001867358741046831\n",
      "\n",
      "giuseppe_michel: \n",
      "has betweeness-centrality of: 0.0015758098644165614\n",
      "\n",
      "frederikmnk: \n",
      "has betweeness-centrality of: 0.0015655452997939848\n",
      "\n",
      "velvetsilk: \n",
      "has betweeness-centrality of: 0.0015383522229552216\n",
      "\n",
      "SandraMoerch: \n",
      "has betweeness-centrality of: 0.0015330298735385009\n",
      "\n",
      "caspary: \n",
      "has betweeness-centrality of: 0.001483005292929454\n",
      "\n",
      "mohwpr: \n",
      "has betweeness-centrality of: 0.001479347184905436\n",
      "\n",
      "ITC_sustainable: \n",
      "has betweeness-centrality of: 0.0014689969094385939\n",
      "\n",
      "rkimbowa: \n",
      "has betweeness-centrality of: 0.0014352931022983265\n",
      "\n",
      "EU2018AT: \n",
      "has betweeness-centrality of: 0.0012440142589159142\n",
      "\n",
      "ejfoundation: \n",
      "has betweeness-centrality of: 0.0011947452240030471\n",
      "\n",
      "BornoYoung: \n",
      "has betweeness-centrality of: 0.0011643891955088316\n",
      "\n",
      "__Interfaith__: \n",
      "has betweeness-centrality of: 0.0011580276811123343\n",
      "\n",
      "keesfiere485: \n",
      "has betweeness-centrality of: 0.0011568459860663723\n",
      "\n",
      "SaskiaSchellek1: \n",
      "has betweeness-centrality of: 0.0008930262925683451\n"
     ]
    }
   ],
   "source": [
    "#now we will find betweeness-centrality\n",
    "betweeness_cent = nx.betweenness_centrality(G)\n",
    "sorted_e = sorted(betweeness_cent.items(), key = operator.itemgetter(1), reverse=True)\n",
    "between_degree = sorted_e[:35]\n",
    "for pair in between_degree:\n",
    "    print('\\n{}: \\nhas betweeness-centrality of: {}'.format(pair[0],pair[1])) "
   ]
  },
  {
   "cell_type": "markdown",
   "metadata": {},
   "source": [
    "In terms of social networks, if wee see an individual with a greater betweeness, it means that they have more power, because other individuals depend on their connection to get information from from other individuals -\n"
   ]
  },
  {
   "cell_type": "code",
   "execution_count": 29,
   "metadata": {},
   "outputs": [
    {
     "name": "stdout",
     "output_type": "stream",
     "text": [
      "\n",
      "larsloekke: \n",
      "has closeness-centrality of: 0.9996175908221797\n",
      "\n",
      "anderssamuelsen: \n",
      "has closeness-centrality of: 0.5490443184204999\n",
      "\n",
      "oestergaard: \n",
      "has closeness-centrality of: 0.5480083857442348\n",
      "\n",
      "PSkipperEL: \n",
      "has closeness-centrality of: 0.5379707758798107\n",
      "\n",
      "SorenPape: \n",
      "has closeness-centrality of: 0.536315141567501\n",
      "\n",
      "PiaOlsen: \n",
      "has closeness-centrality of: 0.5309770465163518\n",
      "\n",
      "worldscouting: \n",
      "has closeness-centrality of: 0.5017274472168906\n",
      "\n",
      "uffeelbaek: \n",
      "has closeness-centrality of: 0.392080395980201\n",
      "\n",
      "StepSurrugue: \n",
      "has closeness-centrality of: 0.3651347953624808\n",
      "\n",
      "Astro_Andreas: \n",
      "has closeness-centrality of: 0.35936211163046466\n",
      "\n",
      "DanmarksNatur: \n",
      "has closeness-centrality of: 0.35872101001784\n",
      "\n",
      "alexIholroyd: \n",
      "has closeness-centrality of: 0.3583767480120647\n",
      "\n",
      "Chresten: \n",
      "has closeness-centrality of: 0.35827850877192985\n",
      "\n",
      "Kvinderaadet: \n",
      "has closeness-centrality of: 0.3508724832214765\n",
      "\n",
      "RestlessDev: \n",
      "has closeness-centrality of: 0.33577392421323055\n"
     ]
    }
   ],
   "source": [
    "#now we will find closeness centrality \n",
    "closeness_cent = nx.closeness_centrality(G)\n",
    "sorted_c = sorted(closeness_cent.items(), key = operator.itemgetter(1), reverse=True)\n",
    "closeness_centtrali = sorted_c[:15]\n",
    "for pair in closeness_centtrali:\n",
    "    print('\\n{}: \\nhas closeness-centrality of: {}'.format(pair[0],pair[1])) "
   ]
  },
  {
   "cell_type": "code",
   "execution_count": 30,
   "metadata": {},
   "outputs": [
    {
     "name": "stdout",
     "output_type": "stream",
     "text": [
      "\n",
      "larsloekke: \n",
      "has a pagerank of: 0.19425865533505193\n",
      "\n",
      "oestergaard: \n",
      "has a pagerank of: 0.08833728976776843\n",
      "\n",
      "PSkipperEL: \n",
      "has a pagerank of: 0.08133339882500969\n",
      "\n",
      "PiaOlsen: \n",
      "has a pagerank of: 0.07999149766386915\n",
      "\n",
      "SorenPape: \n",
      "has a pagerank of: 0.07730604143428776\n",
      "\n",
      "anderssamuelsen: \n",
      "has a pagerank of: 0.07538412207236425\n",
      "\n",
      "uffeelbaek: \n",
      "has a pagerank of: 0.046050216392746264\n",
      "\n",
      "worldscouting: \n",
      "has a pagerank of: 0.030665841723118446\n",
      "\n",
      "DanmarksNatur: \n",
      "has a pagerank of: 0.026526558415790477\n",
      "\n",
      "StepSurrugue: \n",
      "has a pagerank of: 0.017620860311195453\n",
      "\n",
      "Chresten: \n",
      "has a pagerank of: 0.013335243592937524\n",
      "\n",
      "RestlessDev: \n",
      "has a pagerank of: 0.011970324785995853\n",
      "\n",
      "Kvinderaadet: \n",
      "has a pagerank of: 0.010470165385477353\n",
      "\n",
      "Astro_Andreas: \n",
      "has a pagerank of: 0.009324779994543566\n",
      "\n",
      "JulleKramer: \n",
      "has a pagerank of: 0.009275402923717136\n"
     ]
    }
   ],
   "source": [
    "#finally we will look at pagerank for the different individuals\n",
    "pr = nx.pagerank(G)\n",
    "pagerank_sort = sorted(pr.items(), key = operator.itemgetter(1), reverse=True)\n",
    "pagerank = pagerank_sort[:15]\n",
    "for pair in pagerank:\n",
    "    print('\\n{}: \\nhas a pagerank of: {}'.format(pair[0],pair[1])) \n",
    "\n"
   ]
  }
 ],
 "metadata": {
  "kernelspec": {
   "display_name": "Python 3",
   "language": "python",
   "name": "python3"
  },
  "language_info": {
   "codemirror_mode": {
    "name": "ipython",
    "version": 3
   },
   "file_extension": ".py",
   "mimetype": "text/x-python",
   "name": "python",
   "nbconvert_exporter": "python",
   "pygments_lexer": "ipython3",
   "version": "3.6.5"
  }
 },
 "nbformat": 4,
 "nbformat_minor": 2
}
